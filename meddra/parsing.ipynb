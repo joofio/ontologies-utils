{
 "cells": [
  {
   "cell_type": "markdown",
   "metadata": {},
   "source": [
    "## Meddra files parser\n",
    "\n",
    "1. System Organ Class (i.e. Gastrointestinal disorders)\n",
    "2. High Level Group Term (i.e. Gastrointestinal signs and symptoms)\n",
    "3. High Level Term (i.e. Nausea and vomiting symptoms)\n",
    "4. Prefered Term (i.e Nausea)\n",
    "5. Lowest Level Term (i.e Feeling queasy)\n",
    "\n",
    "Nome do ficheiro1 hlgt.asc\n",
    "hlgt_hlt.asc\n",
    "hlt.asc\n",
    "hlt_pt.asc\n",
    "llt.asc meddra_history_portuguese.asc meddra_release.asc\n",
    "mdhier.asc pt.asc\n",
    "soc.asc soc_hlgt.asc intl_ord.asc smq_list.asc smq_content.asc\n",
    "Tabela do MedDRA\n",
    "1_hlgt_pref_term 1_hlgt_hlt_comp 1_hlt_pref_term 1_hlt_pref_comp 1_low_level_term N/A*\n",
    "N/A 1_md_hierarchy 1_pref_term 1_soc_term 1_soc_hlgt_comp 1_soc_intl_order 1_smq_list 1_smq_content\n"
   ]
  },
  {
   "cell_type": "code",
   "execution_count": 2,
   "metadata": {},
   "outputs": [],
   "source": [
    "import pandas as pd"
   ]
  },
  {
   "cell_type": "code",
   "execution_count": 3,
   "metadata": {},
   "outputs": [],
   "source": [
    "hlgt_hlt_cols=[\"Hlgt_code\",\"hlt_code\"]\n",
    "hlgt_cols=[\"hlgt_code\",\"hlgt_name\",\"hlgt_whoart_code\",\"hlgt_harts_code\",\"hlgt_costart_sym\",\"hlgt_icd9_code\",\"hlgt_icd9cm_code\",\"hlgt_icd10_code\",\"hlgt_jart_code\"]\n",
    "hlt_pt_cols=[\"hlt_code\",\"pt_code\"]\n",
    "hlt_cols=[\"hlt_code\",\"hlt_name\",\"hlt_whoart_code\",\"hlt_harts_code\",\"hlt_costart_sym\",\"hlt_icd9_code\",\"hlt_icd9cm_code\",\"hlt_icd10_code\",\"hlt_jart_code\"]\n",
    "llt_cols=[\"llt_code\",\"llt_name\",\"pt_code\",\"llt_whoart_code\",\"llt_harts_code\",\"llt_costart_sym\",\"llt_icd9_code\",\"llt_icd9cm_code\",\"llt_icd10_code\",\"llt_currency\",\"llt_jart_code\"]\n",
    "mdhier_cols=[\"pt_code\",\"hlt_code\",\"hglt_code\",\"soc_code\",\"pt_name\",\"hlt_name\",\"hglt_name\",\"soc_name\",\"soc_abbrev\",\"null_field\",\"pt_soc_code\",\"primary_soc_fg\"]\n",
    "pt_cols=[\"pt_code\",\"pt_name\",\"null_field\",\"pt_soc_code\",\"pt_whoart_code\",\"pt_harts_code\",\"pt_costart_sym\",\"pt_icd9_code\",\"pt_icd9cm_code\",\"pt_icd10_code\",\"pt_jart_code\"]\n",
    "soc_hlgt_cols=[\"soc_code\",\"hlgt_code\"]\n",
    "intl_ord_cols=[\"intl_ord_code\",\"soc_code\"]"
   ]
  },
  {
   "cell_type": "code",
   "execution_count": 4,
   "metadata": {},
   "outputs": [],
   "source": [
    "hlgt_hlt=pd.read_table(\"/Users/joaoalmeida/Downloads/MedDRA_25_1_Portuguese/ascii-251/hlgt_hlt.asc\", sep=\"$\", header=None,encoding='ascii')\n",
    "hlgt=pd.read_table(\"/Users/joaoalmeida/Downloads/MedDRA_25_1_Portuguese/ascii-251/hlgt.asc\", sep=\"$\", header=None,encoding='latin-1')\n",
    "hlt_pt=pd.read_table(\"/Users/joaoalmeida/Downloads/MedDRA_25_1_Portuguese/ascii-251/hlt_pt.asc\", sep=\"$\", header=None,encoding='latin-1')\n",
    "hlt=pd.read_table(\"/Users/joaoalmeida/Downloads/MedDRA_25_1_Portuguese/ascii-251/hlt.asc\", sep=\"$\", header=None,encoding='latin-1')\n",
    "intl_ord=pd.read_table(\"/Users/joaoalmeida/Downloads/MedDRA_25_1_Portuguese/ascii-251/intl_ord.asc\", sep=\"$\", header=None,encoding='latin-1')\n",
    "llt=pd.read_table(\"/Users/joaoalmeida/Downloads/MedDRA_25_1_Portuguese/ascii-251/llt.asc\", sep=\"$\", header=None,encoding='latin-1')\n",
    "mdhier=pd.read_table(\"/Users/joaoalmeida/Downloads/MedDRA_25_1_Portuguese/ascii-251/mdhier.asc\", sep=\"$\", header=None,encoding='latin-1')\n",
    "pt=pd.read_table(\"/Users/joaoalmeida/Downloads/MedDRA_25_1_Portuguese/ascii-251/pt.asc\", sep=\"$\", header=None,encoding='latin-1')\n",
    "soc_hlgt=pd.read_table(\"/Users/joaoalmeida/Downloads/MedDRA_25_1_Portuguese/ascii-251/soc_hlgt.asc\", sep=\"$\", header=None,encoding='latin-1')\n"
   ]
  },
  {
   "cell_type": "code",
   "execution_count": 5,
   "metadata": {},
   "outputs": [],
   "source": [
    "hlgt_hlt = hlgt_hlt.iloc[: , :-1]\n",
    "hlgt=hlgt.iloc[: , :-1]\n",
    "hlt_pt=hlt_pt.iloc[: , :-1]\n",
    "hlt=hlt.iloc[: , :-1]\n",
    "llt=llt.iloc[: , :-1]\n",
    "mdhier=mdhier.iloc[: , :-1]\n",
    "pt=pt.iloc[: , :-1]\n",
    "soc_hlgt=soc_hlgt.iloc[: , :-1]\n",
    "intl_ord=intl_ord.iloc[: , :-1]"
   ]
  },
  {
   "cell_type": "code",
   "execution_count": 6,
   "metadata": {},
   "outputs": [],
   "source": [
    "hlgt_hlt.columns=hlgt_hlt_cols\n",
    "hlgt.columns=hlgt_cols\n",
    "hlt_pt.columns=hlt_pt_cols\n",
    "hlt.columns=hlt_cols\n",
    "llt.columns=llt_cols\n",
    "mdhier.columns=mdhier_cols\n",
    "pt.columns=pt_cols\n",
    "soc_hlgt.columns=soc_hlgt_cols\n",
    "intl_ord.columns=intl_ord_cols"
   ]
  },
  {
   "cell_type": "code",
   "execution_count": 7,
   "metadata": {},
   "outputs": [
    {
     "data": {
      "text/html": [
       "<div>\n",
       "<style scoped>\n",
       "    .dataframe tbody tr th:only-of-type {\n",
       "        vertical-align: middle;\n",
       "    }\n",
       "\n",
       "    .dataframe tbody tr th {\n",
       "        vertical-align: top;\n",
       "    }\n",
       "\n",
       "    .dataframe thead th {\n",
       "        text-align: right;\n",
       "    }\n",
       "</style>\n",
       "<table border=\"1\" class=\"dataframe\">\n",
       "  <thead>\n",
       "    <tr style=\"text-align: right;\">\n",
       "      <th></th>\n",
       "      <th>pt_code</th>\n",
       "      <th>pt_name</th>\n",
       "      <th>null_field</th>\n",
       "      <th>pt_soc_code</th>\n",
       "      <th>pt_whoart_code</th>\n",
       "      <th>pt_harts_code</th>\n",
       "      <th>pt_costart_sym</th>\n",
       "      <th>pt_icd9_code</th>\n",
       "      <th>pt_icd9cm_code</th>\n",
       "      <th>pt_icd10_code</th>\n",
       "      <th>pt_jart_code</th>\n",
       "    </tr>\n",
       "  </thead>\n",
       "  <tbody>\n",
       "    <tr>\n",
       "      <th>0</th>\n",
       "      <td>10000002</td>\n",
       "      <td>Deficiência de 11-beta-hidroxilase</td>\n",
       "      <td>NaN</td>\n",
       "      <td>10010331</td>\n",
       "      <td>NaN</td>\n",
       "      <td>NaN</td>\n",
       "      <td>NaN</td>\n",
       "      <td>NaN</td>\n",
       "      <td>NaN</td>\n",
       "      <td>NaN</td>\n",
       "      <td>NaN</td>\n",
       "    </tr>\n",
       "    <tr>\n",
       "      <th>1</th>\n",
       "      <td>10000005</td>\n",
       "      <td>17-cetosteróides na urina</td>\n",
       "      <td>NaN</td>\n",
       "      <td>10022891</td>\n",
       "      <td>NaN</td>\n",
       "      <td>NaN</td>\n",
       "      <td>NaN</td>\n",
       "      <td>NaN</td>\n",
       "      <td>NaN</td>\n",
       "      <td>NaN</td>\n",
       "      <td>NaN</td>\n",
       "    </tr>\n",
       "    <tr>\n",
       "      <th>2</th>\n",
       "      <td>10000007</td>\n",
       "      <td>17-cetosteróides na urina diminuídos</td>\n",
       "      <td>NaN</td>\n",
       "      <td>10022891</td>\n",
       "      <td>NaN</td>\n",
       "      <td>NaN</td>\n",
       "      <td>NaN</td>\n",
       "      <td>NaN</td>\n",
       "      <td>NaN</td>\n",
       "      <td>NaN</td>\n",
       "      <td>NaN</td>\n",
       "    </tr>\n",
       "    <tr>\n",
       "      <th>3</th>\n",
       "      <td>10000009</td>\n",
       "      <td>17-cetosteróides na urina aumentados</td>\n",
       "      <td>NaN</td>\n",
       "      <td>10022891</td>\n",
       "      <td>NaN</td>\n",
       "      <td>NaN</td>\n",
       "      <td>NaN</td>\n",
       "      <td>NaN</td>\n",
       "      <td>NaN</td>\n",
       "      <td>NaN</td>\n",
       "      <td>NaN</td>\n",
       "    </tr>\n",
       "    <tr>\n",
       "      <th>4</th>\n",
       "      <td>10000011</td>\n",
       "      <td>17-cetosteróides na urina normais</td>\n",
       "      <td>NaN</td>\n",
       "      <td>10022891</td>\n",
       "      <td>NaN</td>\n",
       "      <td>NaN</td>\n",
       "      <td>NaN</td>\n",
       "      <td>NaN</td>\n",
       "      <td>NaN</td>\n",
       "      <td>NaN</td>\n",
       "      <td>NaN</td>\n",
       "    </tr>\n",
       "    <tr>\n",
       "      <th>...</th>\n",
       "      <td>...</td>\n",
       "      <td>...</td>\n",
       "      <td>...</td>\n",
       "      <td>...</td>\n",
       "      <td>...</td>\n",
       "      <td>...</td>\n",
       "      <td>...</td>\n",
       "      <td>...</td>\n",
       "      <td>...</td>\n",
       "      <td>...</td>\n",
       "      <td>...</td>\n",
       "    </tr>\n",
       "    <tr>\n",
       "      <th>25587</th>\n",
       "      <td>10087968</td>\n",
       "      <td>Trombose da veia espermática</td>\n",
       "      <td>NaN</td>\n",
       "      <td>10038604</td>\n",
       "      <td>NaN</td>\n",
       "      <td>NaN</td>\n",
       "      <td>NaN</td>\n",
       "      <td>NaN</td>\n",
       "      <td>NaN</td>\n",
       "      <td>NaN</td>\n",
       "      <td>NaN</td>\n",
       "    </tr>\n",
       "    <tr>\n",
       "      <th>25588</th>\n",
       "      <td>10087973</td>\n",
       "      <td>Gangrena pulmonar</td>\n",
       "      <td>NaN</td>\n",
       "      <td>10021881</td>\n",
       "      <td>NaN</td>\n",
       "      <td>NaN</td>\n",
       "      <td>NaN</td>\n",
       "      <td>NaN</td>\n",
       "      <td>NaN</td>\n",
       "      <td>NaN</td>\n",
       "      <td>NaN</td>\n",
       "    </tr>\n",
       "    <tr>\n",
       "      <th>25589</th>\n",
       "      <td>10087974</td>\n",
       "      <td>Extravasão no local de acesso vascular</td>\n",
       "      <td>NaN</td>\n",
       "      <td>10022117</td>\n",
       "      <td>NaN</td>\n",
       "      <td>NaN</td>\n",
       "      <td>NaN</td>\n",
       "      <td>NaN</td>\n",
       "      <td>NaN</td>\n",
       "      <td>NaN</td>\n",
       "      <td>NaN</td>\n",
       "    </tr>\n",
       "    <tr>\n",
       "      <th>25590</th>\n",
       "      <td>10087975</td>\n",
       "      <td>Necrose retroperitoneal</td>\n",
       "      <td>NaN</td>\n",
       "      <td>10017947</td>\n",
       "      <td>NaN</td>\n",
       "      <td>NaN</td>\n",
       "      <td>NaN</td>\n",
       "      <td>NaN</td>\n",
       "      <td>NaN</td>\n",
       "      <td>NaN</td>\n",
       "      <td>NaN</td>\n",
       "    </tr>\n",
       "    <tr>\n",
       "      <th>25591</th>\n",
       "      <td>10087980</td>\n",
       "      <td>Triptassemia alfa hereditária</td>\n",
       "      <td>NaN</td>\n",
       "      <td>10010331</td>\n",
       "      <td>NaN</td>\n",
       "      <td>NaN</td>\n",
       "      <td>NaN</td>\n",
       "      <td>NaN</td>\n",
       "      <td>NaN</td>\n",
       "      <td>NaN</td>\n",
       "      <td>NaN</td>\n",
       "    </tr>\n",
       "  </tbody>\n",
       "</table>\n",
       "<p>25592 rows × 11 columns</p>\n",
       "</div>"
      ],
      "text/plain": [
       "        pt_code                                 pt_name  null_field  \\\n",
       "0      10000002      Deficiência de 11-beta-hidroxilase         NaN   \n",
       "1      10000005               17-cetosteróides na urina         NaN   \n",
       "2      10000007    17-cetosteróides na urina diminuídos         NaN   \n",
       "3      10000009    17-cetosteróides na urina aumentados         NaN   \n",
       "4      10000011       17-cetosteróides na urina normais         NaN   \n",
       "...         ...                                     ...         ...   \n",
       "25587  10087968            Trombose da veia espermática         NaN   \n",
       "25588  10087973                       Gangrena pulmonar         NaN   \n",
       "25589  10087974  Extravasão no local de acesso vascular         NaN   \n",
       "25590  10087975                 Necrose retroperitoneal         NaN   \n",
       "25591  10087980           Triptassemia alfa hereditária         NaN   \n",
       "\n",
       "       pt_soc_code  pt_whoart_code  pt_harts_code  pt_costart_sym  \\\n",
       "0         10010331             NaN            NaN             NaN   \n",
       "1         10022891             NaN            NaN             NaN   \n",
       "2         10022891             NaN            NaN             NaN   \n",
       "3         10022891             NaN            NaN             NaN   \n",
       "4         10022891             NaN            NaN             NaN   \n",
       "...            ...             ...            ...             ...   \n",
       "25587     10038604             NaN            NaN             NaN   \n",
       "25588     10021881             NaN            NaN             NaN   \n",
       "25589     10022117             NaN            NaN             NaN   \n",
       "25590     10017947             NaN            NaN             NaN   \n",
       "25591     10010331             NaN            NaN             NaN   \n",
       "\n",
       "       pt_icd9_code  pt_icd9cm_code  pt_icd10_code  pt_jart_code  \n",
       "0               NaN             NaN            NaN           NaN  \n",
       "1               NaN             NaN            NaN           NaN  \n",
       "2               NaN             NaN            NaN           NaN  \n",
       "3               NaN             NaN            NaN           NaN  \n",
       "4               NaN             NaN            NaN           NaN  \n",
       "...             ...             ...            ...           ...  \n",
       "25587           NaN             NaN            NaN           NaN  \n",
       "25588           NaN             NaN            NaN           NaN  \n",
       "25589           NaN             NaN            NaN           NaN  \n",
       "25590           NaN             NaN            NaN           NaN  \n",
       "25591           NaN             NaN            NaN           NaN  \n",
       "\n",
       "[25592 rows x 11 columns]"
      ]
     },
     "execution_count": 7,
     "metadata": {},
     "output_type": "execute_result"
    }
   ],
   "source": [
    "pt"
   ]
  },
  {
   "cell_type": "code",
   "execution_count": 8,
   "metadata": {},
   "outputs": [
    {
     "data": {
      "text/html": [
       "<div>\n",
       "<style scoped>\n",
       "    .dataframe tbody tr th:only-of-type {\n",
       "        vertical-align: middle;\n",
       "    }\n",
       "\n",
       "    .dataframe tbody tr th {\n",
       "        vertical-align: top;\n",
       "    }\n",
       "\n",
       "    .dataframe thead th {\n",
       "        text-align: right;\n",
       "    }\n",
       "</style>\n",
       "<table border=\"1\" class=\"dataframe\">\n",
       "  <thead>\n",
       "    <tr style=\"text-align: right;\">\n",
       "      <th></th>\n",
       "      <th>llt_code</th>\n",
       "      <th>llt_name</th>\n",
       "      <th>pt_code</th>\n",
       "      <th>llt_whoart_code</th>\n",
       "      <th>llt_harts_code</th>\n",
       "      <th>llt_costart_sym</th>\n",
       "      <th>llt_icd9_code</th>\n",
       "      <th>llt_icd9cm_code</th>\n",
       "      <th>llt_icd10_code</th>\n",
       "      <th>llt_currency</th>\n",
       "      <th>llt_jart_code</th>\n",
       "    </tr>\n",
       "  </thead>\n",
       "  <tbody>\n",
       "    <tr>\n",
       "      <th>1</th>\n",
       "      <td>10000002</td>\n",
       "      <td>Deficiência de 11-beta-hidroxilase</td>\n",
       "      <td>10000002</td>\n",
       "      <td>NaN</td>\n",
       "      <td>NaN</td>\n",
       "      <td>NaN</td>\n",
       "      <td>NaN</td>\n",
       "      <td>NaN</td>\n",
       "      <td>NaN</td>\n",
       "      <td>Y</td>\n",
       "      <td>NaN</td>\n",
       "    </tr>\n",
       "  </tbody>\n",
       "</table>\n",
       "</div>"
      ],
      "text/plain": [
       "   llt_code                            llt_name   pt_code  llt_whoart_code  \\\n",
       "1  10000002  Deficiência de 11-beta-hidroxilase  10000002              NaN   \n",
       "\n",
       "   llt_harts_code  llt_costart_sym  llt_icd9_code  llt_icd9cm_code  \\\n",
       "1             NaN              NaN            NaN              NaN   \n",
       "\n",
       "   llt_icd10_code llt_currency  llt_jart_code  \n",
       "1             NaN            Y            NaN  "
      ]
     },
     "execution_count": 8,
     "metadata": {},
     "output_type": "execute_result"
    }
   ],
   "source": [
    "llt[llt[\"pt_code\"]==10000002]"
   ]
  },
  {
   "cell_type": "code",
   "execution_count": 9,
   "metadata": {},
   "outputs": [],
   "source": [
    "import sqlalchemy"
   ]
  },
  {
   "cell_type": "code",
   "execution_count": 10,
   "metadata": {},
   "outputs": [],
   "source": [
    "SQLALCHEMY_DATABASE_URI = \"mysql+pymysql://api:ZSCO1wtnkwU9fBsa5/fS@127.0.0.1:3306/repository\"\n",
    "# Test if it works\n",
    "engine = sqlalchemy.create_engine(SQLALCHEMY_DATABASE_URI, echo=False)\n",
    "conn=engine.connect()"
   ]
  },
  {
   "cell_type": "code",
   "execution_count": 11,
   "metadata": {},
   "outputs": [],
   "source": [
    "pt.to_sql(\"meddra_prefered_term_pt\", con=conn, if_exists=\"replace\", index=False)\n",
    "llt.to_sql(\"meddra_low_level_term_pt\", con=conn, if_exists=\"replace\", index=False)"
   ]
  },
  {
   "cell_type": "code",
   "execution_count": null,
   "metadata": {},
   "outputs": [
    {
     "ename": "NameError",
     "evalue": "name 'pt' is not defined",
     "output_type": "error",
     "traceback": [
      "\u001b[0;31m---------------------------------------------------------------------------\u001b[0m",
      "\u001b[0;31mNameError\u001b[0m                                 Traceback (most recent call last)",
      "\u001b[1;32m/Users/joaoalmeida/Desktop/ontologies-utils/meddra/parsing.ipynb Cell 12\u001b[0m in \u001b[0;36m<module>\u001b[0;34m\u001b[0m\n\u001b[0;32m----> <a href='vscode-notebook-cell:/Users/joaoalmeida/Desktop/ontologies-utils/meddra/parsing.ipynb#X14sZmlsZQ%3D%3D?line=0'>1</a>\u001b[0m pt\u001b[39m.\u001b[39mto_csv(\u001b[39m\"\u001b[39m\u001b[39mmeddra_prefered_term_pt.csv\u001b[39m\u001b[39m\"\u001b[39m, index\u001b[39m=\u001b[39m\u001b[39mFalse\u001b[39;00m)\n\u001b[1;32m      <a href='vscode-notebook-cell:/Users/joaoalmeida/Desktop/ontologies-utils/meddra/parsing.ipynb#X14sZmlsZQ%3D%3D?line=1'>2</a>\u001b[0m llt\u001b[39m.\u001b[39mto_csv(\u001b[39m\"\u001b[39m\u001b[39mmeddra_low_level_term_pt.csv\u001b[39m\u001b[39m\"\u001b[39m, index\u001b[39m=\u001b[39m\u001b[39mFalse\u001b[39;00m)\n",
      "\u001b[0;31mNameError\u001b[0m: name 'pt' is not defined"
     ]
    }
   ],
   "source": [
    "pt.to_csv(\"meddra_prefered_term_pt.csv\", index=False)\n",
    "llt.to_csv(\"meddra_low_level_term_pt.csv\", index=False)"
   ]
  },
  {
   "cell_type": "code",
   "execution_count": null,
   "metadata": {},
   "outputs": [],
   "source": [
    "llt_en=pd.read_table(\"/Users/joaoalmeida/Downloads/MedDRA_25_1_English/MedAscii/llt.asc\", sep=\"$\", header=None,encoding='latin-1')\n",
    "pt_en=pd.read_table(\"/Users/joaoalmeida/Downloads/MedDRA_25_1_English/MedAscii/pt.asc\", sep=\"$\", header=None,encoding='latin-1')\n"
   ]
  },
  {
   "cell_type": "code",
   "execution_count": null,
   "metadata": {},
   "outputs": [],
   "source": [
    "llt_en=llt_en.iloc[: , :-1]\n",
    "pt_en=pt_en.iloc[: , :-1]"
   ]
  },
  {
   "cell_type": "code",
   "execution_count": null,
   "metadata": {},
   "outputs": [],
   "source": [
    "llt_en.columns=llt_cols\n",
    "pt_en.columns=pt_cols"
   ]
  },
  {
   "cell_type": "code",
   "execution_count": null,
   "metadata": {},
   "outputs": [
    {
     "data": {
      "text/plain": [
       "85668"
      ]
     },
     "execution_count": 124,
     "metadata": {},
     "output_type": "execute_result"
    }
   ],
   "source": [
    "pt_en.to_sql(\"meddra_prefered_term_en\", con=conn, if_exists=\"replace\", index=False)\n",
    "llt_en.to_sql(\"meddra_low_level_term_en\", con=conn, if_exists=\"replace\", index=False)"
   ]
  },
  {
   "cell_type": "code",
   "execution_count": null,
   "metadata": {},
   "outputs": [],
   "source": [
    "pt_en.to_csv(\"meddra_prefered_term_en.csv\", index=False)\n",
    "llt_en.to_csv(\"meddra_low_level_term_en.csv\", index=False)"
   ]
  }
 ],
 "metadata": {
  "kernelspec": {
   "display_name": "Python 3.9.10 ('py3')",
   "language": "python",
   "name": "python3"
  },
  "language_info": {
   "codemirror_mode": {
    "name": "ipython",
    "version": 3
   },
   "file_extension": ".py",
   "mimetype": "text/x-python",
   "name": "python",
   "nbconvert_exporter": "python",
   "pygments_lexer": "ipython3",
   "version": "3.9.10"
  },
  "orig_nbformat": 4,
  "vscode": {
   "interpreter": {
    "hash": "decfb96486dd89f89c2598b4e0cc278601247f7ab503e483e1f0537bf3d725c0"
   }
  }
 },
 "nbformat": 4,
 "nbformat_minor": 2
}
